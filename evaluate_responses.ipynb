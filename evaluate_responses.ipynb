{
 "cells": [
  {
   "cell_type": "code",
   "execution_count": 2,
   "metadata": {},
   "outputs": [],
   "source": [
    "import os \n",
    "from bert_score import score"
   ]
  },
  {
   "cell_type": "code",
   "execution_count": 3,
   "metadata": {},
   "outputs": [],
   "source": [
    "def read_files(directory, prefix):\n",
    "    files = [f for f in os.listdir(directory) if f.startswith(prefix) and f.endswith(\".txt\")]\n",
    "    contents = {}\n",
    "    for file in files:\n",
    "        run_number = int(file.split('_')[-1].split('.')[0])\n",
    "        with open(os.path.join(directory, file), \"r\", encoding=\"utf-8\") as f:\n",
    "            if run_number not in contents:\n",
    "                contents[run_number] = []\n",
    "            contents[run_number].append(f.read())\n",
    "    return contents"
   ]
  },
  {
   "cell_type": "code",
   "execution_count": 4,
   "metadata": {},
   "outputs": [],
   "source": [
    "# Function to calculate BERTScore\n",
    "def calculate_bertscore(references, candidates):\n",
    "    P, R, F1 = score(candidates, references, lang=\"en\")\n",
    "    return P.mean().item(), R.mean().item(), F1.mean().item()"
   ]
  },
  {
   "cell_type": "code",
   "execution_count": null,
   "metadata": {},
   "outputs": [
    {
     "name": "stderr",
     "output_type": "stream",
     "text": [
      "Some weights of RobertaModel were not initialized from the model checkpoint at roberta-large and are newly initialized: ['roberta.pooler.dense.bias', 'roberta.pooler.dense.weight']\n",
      "You should probably TRAIN this model on a down-stream task to be able to use it for predictions and inference.\n"
     ]
    },
    {
     "name": "stdout",
     "output_type": "stream",
     "text": [
      "Precision: 0.8223\n",
      "Recall: 0.8339\n",
      "F1 Score: 0.8280\n"
     ]
    }
   ],
   "source": [
    "import os\n",
    "from bert_score import score\n",
    "\n",
    "def read_file(directory, filename):\n",
    "    with open(os.path.join(directory, filename), \"r\", encoding=\"utf-8\") as f:\n",
    "        content = f.read()\n",
    "    return content\n",
    "\n",
    "def calculate_bertscore(reference, candidate):\n",
    "    P, R, F1 = score([candidate], [reference], lang=\"en\")\n",
    "    return P.mean().item(), R.mean().item(), F1.mean().item()\n",
    "\n",
    "def main():\n",
    "    directory = \"static\"\n",
    "    \n",
    "    # Read expected and response files\n",
    "    expected_content = read_file(directory, \"expected_3.txt\")\n",
    "    response_content = read_file(directory, \"response_3.txt\")\n",
    "\n",
    "    precision, recall, f1 = calculate_bertscore(expected_content, response_content)\n",
    "\n",
    "    print(f\"Precision: {precision:.4f}\")\n",
    "    print(f\"Recall: {recall:.4f}\")\n",
    "    print(f\"F1 Score: {f1:.4f}\")\n",
    "\n",
    "if __name__ == \"__main__\":\n",
    "    main()\n"
   ]
  },
  {
   "cell_type": "code",
   "execution_count": null,
   "metadata": {},
   "outputs": [],
   "source": []
  }
 ],
 "metadata": {
  "kernelspec": {
   "display_name": "Python 3",
   "language": "python",
   "name": "python3"
  },
  "language_info": {
   "codemirror_mode": {
    "name": "ipython",
    "version": 3
   },
   "file_extension": ".py",
   "mimetype": "text/x-python",
   "name": "python",
   "nbconvert_exporter": "python",
   "pygments_lexer": "ipython3",
   "version": "3.12.2"
  }
 },
 "nbformat": 4,
 "nbformat_minor": 2
}
