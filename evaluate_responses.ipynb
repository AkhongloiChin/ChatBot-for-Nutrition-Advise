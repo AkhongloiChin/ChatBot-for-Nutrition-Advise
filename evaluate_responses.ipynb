{
 "cells": [
  {
   "cell_type": "code",
   "execution_count": 6,
   "metadata": {},
   "outputs": [],
   "source": [
    "import os \n",
    "from bert_score import score"
   ]
  },
  {
   "cell_type": "code",
   "execution_count": 7,
   "metadata": {},
   "outputs": [],
   "source": [
    "def read_files(directory, prefix):\n",
    "    files = [f for f in os.listdir(directory) if f.startswith(prefix) and f.endswith(\".txt\")]\n",
    "    contents = {}\n",
    "    for file in files:\n",
    "        run_number = int(file.split('_')[-1].split('.')[0])\n",
    "        with open(os.path.join(directory, file), \"r\", encoding=\"utf-8\") as f:\n",
    "            if run_number not in contents:\n",
    "                contents[run_number] = []\n",
    "            contents[run_number].append(f.read())\n",
    "    return contents"
   ]
  },
  {
   "cell_type": "code",
   "execution_count": 8,
   "metadata": {},
   "outputs": [],
   "source": [
    "def calculate_bertscore(reference, candidate):\n",
    "    P, R, F1 = score(candidate, reference, lang=\"en\")\n",
    "    return P.mean().item(), R.mean().item(), F1.mean().item()"
   ]
  },
  {
   "cell_type": "code",
   "execution_count": 9,
   "metadata": {},
   "outputs": [],
   "source": [
    "def main():\n",
    "    directory = \"static\"\n",
    "    \n",
    "    # Read expected and response files\n",
    "    expected_contents = read_files(directory, \"expected\")\n",
    "    response_contents = read_files(directory, \"response\")\n",
    "\n",
    "    if len(expected_contents) != len(response_contents):\n",
    "        print(\"The number of expected files and response files do not match!\")\n",
    "        return\n",
    "\n",
    "    all_references = []\n",
    "    all_candidates = []\n",
    "\n",
    "    for run_number, reference_texts in expected_contents.items():\n",
    "        if run_number in response_contents:\n",
    "            all_references.extend(reference_texts)  # Use extend to add the list of texts\n",
    "            all_candidates.extend(response_contents[run_number])\n",
    "\n",
    "    precision, recall, f1 = calculate_bertscore(all_references, all_candidates)\n",
    "\n",
    "    print(f\"Precision: {precision:.4f}\")\n",
    "    print(f\"Recall: {recall:.4f}\")\n",
    "    print(f\"F1 Score: {f1:.4f}\")\n"
   ]
  },
  {
   "cell_type": "code",
   "execution_count": 10,
   "metadata": {},
   "outputs": [
    {
     "name": "stderr",
     "output_type": "stream",
     "text": [
      "Some weights of RobertaModel were not initialized from the model checkpoint at roberta-large and are newly initialized: ['roberta.pooler.dense.bias', 'roberta.pooler.dense.weight']\n",
      "You should probably TRAIN this model on a down-stream task to be able to use it for predictions and inference.\n"
     ]
    },
    {
     "name": "stdout",
     "output_type": "stream",
     "text": [
      "Precision: 0.8118\n",
      "Recall: 0.8479\n",
      "F1 Score: 0.8291\n"
     ]
    }
   ],
   "source": [
    "if __name__ == \"__main__\":\n",
    "    main()"
   ]
  }
 ],
 "metadata": {
  "kernelspec": {
   "display_name": "Python 3",
   "language": "python",
   "name": "python3"
  },
  "language_info": {
   "codemirror_mode": {
    "name": "ipython",
    "version": 3
   },
   "file_extension": ".py",
   "mimetype": "text/x-python",
   "name": "python",
   "nbconvert_exporter": "python",
   "pygments_lexer": "ipython3",
   "version": "3.12.2"
  }
 },
 "nbformat": 4,
 "nbformat_minor": 2
}
